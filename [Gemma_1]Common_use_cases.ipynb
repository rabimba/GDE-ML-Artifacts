{
  "cells": [
    {
      "cell_type": "markdown",
      "metadata": {
        "id": "view-in-github",
        "colab_type": "text"
      },
      "source": [
        "<a href=\"https://colab.research.google.com/github/rabimba/GDE-ML-Artifacts/blob/main/%5BGemma_1%5DCommon_use_cases.ipynb\" target=\"_parent\"><img src=\"https://colab.research.google.com/assets/colab-badge.svg\" alt=\"Open In Colab\"/></a>"
      ]
    },
    {
      "cell_type": "markdown",
      "metadata": {
        "id": "dfsDR_omdNea"
      },
      "source": [
        "# Gemma - All in One"
      ]
    },
    {
      "cell_type": "code",
      "execution_count": null,
      "metadata": {
        "id": "A9sUQ4WrP-Yr"
      },
      "outputs": [],
      "source": [
        "import os\n",
        "from google.colab import userdata\n",
        "\n",
        "# Note: `userdata.get` is a Colab API. If you're not using Colab, set the env\n",
        "# vars as appropriate for your system.\n",
        "os.environ[\"KAGGLE_USERNAME\"] = userdata.get(\"KAGGLE_USERNAME\")\n",
        "os.environ[\"KAGGLE_KEY\"] = userdata.get(\"KAGGLE_KEY\")"
      ]
    },
    {
      "cell_type": "markdown",
      "metadata": {
        "id": "iwjo5_Uucxkw"
      },
      "source": [
        "### Install dependencies\n",
        "Run the cell below to install all the required dependencies."
      ]
    },
    {
      "cell_type": "code",
      "execution_count": null,
      "metadata": {
        "id": "r_nXPEsF7UWQ"
      },
      "outputs": [],
      "source": [
        "!pip install -q -U keras keras-nlp"
      ]
    },
    {
      "cell_type": "markdown",
      "metadata": {
        "id": "pOAEiJmnBE0D"
      },
      "source": [
        "## Exploring prompting capabilities"
      ]
    },
    {
      "cell_type": "markdown",
      "metadata": {
        "id": "J3sX2mFH4GWk"
      },
      "source": [
        "### Gemma"
      ]
    },
    {
      "cell_type": "code",
      "execution_count": null,
      "metadata": {
        "id": "B3WckZv2hef3"
      },
      "outputs": [],
      "source": [
        "import keras\n",
        "import keras_nlp\n",
        "from IPython.display import display, Markdown, Latex\n",
        "\n",
        "os.environ[\"KAGGLE_USERNAME\"] = userdata.get(\"KAGGLE_USERNAME\")\n",
        "os.environ[\"KAGGLE_KEY\"] = userdata.get(\"KAGGLE_KEY\")"
      ]
    },
    {
      "cell_type": "code",
      "execution_count": null,
      "metadata": {
        "id": "8dfseDZChhjl"
      },
      "outputs": [],
      "source": [
        "# Let's load Gemma using Keras\n",
        "gemma_model_id = \"gemma_1.1_instruct_2b_en\"\n",
        "gemma = keras_nlp.models.GemmaCausalLM.from_preset(gemma_model_id)"
      ]
    },
    {
      "cell_type": "markdown",
      "metadata": {
        "id": "N0-VB5iZsVN7"
      },
      "source": [
        "#### Prompting example: Summarization"
      ]
    },
    {
      "cell_type": "code",
      "execution_count": null,
      "metadata": {
        "id": "XmavFevGsU-D",
        "outputId": "c17c02b5-b856-419d-e004-4e0bcb08a5c9",
        "colab": {
          "base_uri": "https://localhost:8080/",
          "height": 46
        }
      },
      "outputs": [
        {
          "output_type": "display_data",
          "data": {
            "text/plain": [
              "<IPython.core.display.Markdown object>"
            ],
            "text/markdown": "Summary:\nGoogle is a tech giant known for its search engine, email, documents, maps, and more, encompassing various products and services."
          },
          "metadata": {}
        }
      ],
      "source": [
        "prompt = \"\"\"<start_of_turn>user\n",
        "\n",
        "Text:\n",
        "The Great Salt Lake is one of the saltiest bodies of water in the world, and if you have the option of visiting it for the day I’d highly recommend it!\n",
        "Because of the water’s salinity, many people compare the floating experience to that in the Dead Sea. If you decide to go swimming in Great Salt Lake, only do so in designated swimming areas–Antelope\n",
        "State Park has several that feature facilities for visitors.A word of caution: swimming (especially swimming in salt water) can dehydrate your body extremely quickly.\n",
        "Make sure to limit your time in the water and bring proper methods of rehydration to help your body refresh after a swim.\n",
        "The salt in the water can also burn any cuts or your eyes, so it’s recommended to avoid full-body submersion.If swimming isn’t your thing, you can still enjoy hiking around Great Salt Lake and Antelope State Park!\n",
        "Check out this hiking-focused tour that features awesome wildlife viewing!Perhaps one of my favorite arboretums I’ve visited so far is Red Butte Garden and Arboretum, affiliated with the University of\n",
        "Utah. The diversity of flora present in this garden facility is insane! Not to mention the stunning views of the Salt Lake Valley and the foothills of the Wasatch Range.My personal recommendation is to\n",
        "pack a light picnic or refreshing beverages to enjoy during your walk around the property. There are several private, quaint sitting spots throughout the gardens, and it’s incredibly tranquil and serene.\n",
        "I’d also recommend packing a book and sunscreen!If you’re craving those scenic mountain views, take a guided drive through the Wasatch Mountain Range for a few hours!\n",
        "\n",
        "Could you summarize the text in a few words?<end_of_turn>\n",
        "<start_of_turn>model\"\"\"\n",
        "\n",
        "response = gemma.generate(prompt, max_length=512)\n",
        "display(Markdown(response[len(prompt) :]))"
      ]
    },
    {
      "cell_type": "markdown",
      "metadata": {
        "id": "EidjJx8tBiXd"
      },
      "source": [
        "#### Prompting example: Reasoning"
      ]
    },
    {
      "cell_type": "code",
      "execution_count": null,
      "metadata": {
        "id": "8SmUpAFDWjpk",
        "outputId": "6e0d2c79-3c40-4577-cf2a-cd297ddcb392",
        "colab": {
          "base_uri": "https://localhost:8080/",
          "height": 343
        }
      },
      "outputs": [
        {
          "output_type": "display_data",
          "data": {
            "text/plain": [
              "<IPython.core.display.Markdown object>"
            ],
            "text/markdown": "**Step 1: Understand the physics of light scattering.**\n\n- Light is composed of different wavelengths, each with a distinct color.\n- When sunlight enters the atmosphere, it is scattered by molecules and particles in the air.\n\n\n**Step 2: Explain the blue wavelength's scattering effect.**\n\n- Blue light has a shorter wavelength than other colors in the spectrum.\n- When blue light interacts with molecules in the atmosphere, it is scattered more strongly than other colors.\n\n\n**Step 3: Describe the scattering process.**\n\n- Blue light is scattered more efficiently by nitrogen molecules than by oxygen molecules.\n- This means that more blue light reaches our eyes from the sky than other colors.\n\n\n**Step 4: Quantify the effect.**\n\n- The blue sky effect is most pronounced on a clear, sunny day with a high concentration of nitrogen molecules in the atmosphere.\n- Studies have shown that the blue sky effect accounts for about 47% of the visible light that reaches our eyes from the sky.\n\n\n**Step 5: Conclusion.**\n\n- The blue sky is caused by the scattering of blue light by molecules in the atmosphere.\n- This scattering effect is responsible for the blue color we perceive in the sky."
          },
          "metadata": {}
        }
      ],
      "source": [
        "prompt = \"\"\"<start_of_turn>user\n",
        "Think and write your step-by-step reasoning before responding.\n",
        "\n",
        "Explain why the sky is blue.<end_of_turn>\n",
        "<start_of_turn>model\"\"\"\n",
        "\n",
        "response = gemma.generate(prompt, max_length=1024)\n",
        "display(Markdown(response[len(prompt) :]))"
      ]
    },
    {
      "cell_type": "markdown",
      "metadata": {
        "id": "e7P97RVOBkea"
      },
      "source": [
        "#### Prompting example: Classification"
      ]
    },
    {
      "cell_type": "code",
      "execution_count": null,
      "metadata": {
        "id": "hCIOmgZhYdow",
        "outputId": "86facd33-4a8a-4c8c-e2dc-50f57b969ec8",
        "colab": {
          "base_uri": "https://localhost:8080/"
        }
      },
      "outputs": [
        {
          "output_type": "stream",
          "name": "stdout",
          "text": [
            "Sentiment:  Positive\n"
          ]
        }
      ],
      "source": [
        "prompt = \"\"\"<start_of_turn>user\n",
        "Classify the text into neutral, negative, or positive.\n",
        "Generate only the class, nothing else.\n",
        "Text: Text: I think the food was awesome.<end_of_turn>\n",
        "<start_of_turn>model\n",
        "Sentiment:\"\"\"\n",
        "\n",
        "response = gemma.generate(prompt, max_length=64)\n",
        "print(\"Sentiment: \" + response[len(prompt) :])"
      ]
    },
    {
      "cell_type": "markdown",
      "metadata": {
        "id": "whC8rU7nBm6O"
      },
      "source": [
        "#### Prompting example: Extraction"
      ]
    },
    {
      "cell_type": "code",
      "execution_count": null,
      "metadata": {
        "id": "1YSnZTttZQvT",
        "outputId": "3df64b29-6864-432c-e899-23f015bf8eac",
        "colab": {
          "base_uri": "https://localhost:8080/"
        }
      },
      "outputs": [
        {
          "output_type": "stream",
          "name": "stdout",
          "text": [
            "Extracted cities: [\"Berlin\", \"Warsaw\", \"London\"]\n"
          ]
        }
      ],
      "source": [
        "text = \"\"\"Lost in a worn Berlin travel guide, Ania underlined Warsaw and London.\n",
        "Two cities, two dreams: a bustling career in finance and\n",
        "a cozy bookshop tucked away in a cobbled London street.\"\"\"\n",
        "\n",
        "prompt = f\"\"\"<start_of_turn>user\n",
        "Your task is to find all the city names in the given text.\n",
        "Your response is an array of the model names in the format [\\\"city_name\\\"].\n",
        "If you don't find model names in the abstract or you are not sure, return [\\\"\\\"]\n",
        "\n",
        "Text:\n",
        "{text}<end_of_turn>\n",
        "<start_of_turn>model\"\"\"\n",
        "\n",
        "response = gemma.generate(prompt, max_length=512)\n",
        "print(\"Extracted cities: \" + response[len(prompt) :])"
      ]
    },
    {
      "cell_type": "markdown",
      "metadata": {
        "id": "RNpzMyvgBrIr"
      },
      "source": [
        "#### Prompting example: Multi-turn dialogue"
      ]
    },
    {
      "cell_type": "code",
      "execution_count": null,
      "metadata": {
        "id": "TZCYYRrXaUYX",
        "outputId": "d844c6b0-7df2-47c2-83f6-96770cc89f00",
        "colab": {
          "base_uri": "https://localhost:8080/"
        }
      },
      "outputs": [
        {
          "name": "stdout",
          "output_type": "stream",
          "text": [
            "\n",
            "*** YOU'RE ENTERING CHAT MODE. TYPE 'EXIT' TO FINISH THE CHAT ***\n",
            "\n",
            "Gemma:  Hi there! I'm your friendly AI assistant here to help you with any questions or tasks you may have. I'm here to\n",
            "assist you with information, provide solutions, and make your experience more efficient. Let's get started!\n",
            "User: What can you do?\n",
            "\n",
            "Gemma: I can assist you with:  * Providing information and answering questions on various topics * Generating creative\n",
            "content and writing * Translating text and documents * Scheduling appointments and managing tasks * Providing\n",
            "recommendations and suggestions * And much more!  How can I help you today?\n",
            "User: EXIT\n"
          ]
        }
      ],
      "source": [
        "import textwrap\n",
        "\n",
        "\n",
        "def format_messages(messages):\n",
        "    fmt_messages = [\n",
        "        f\"<start_of_turn>{author}\\n{text}<end_of_turn>\" for author, text in messages\n",
        "    ]\n",
        "    fmt_messages.append(\"<start_of_turn>model\")\n",
        "    return \"\\n\".join(fmt_messages)\n",
        "\n",
        "\n",
        "history = [\n",
        "    (\n",
        "        \"user\",\n",
        "        \"You're a helpful assistant. Answer user's question in a friendly and helpful way. \"\n",
        "        \"Please introduce yourself first.\",\n",
        "    )\n",
        "]\n",
        "\n",
        "print(\"\\n*** YOU'RE ENTERING CHAT MODE. TYPE 'EXIT' TO FINISH THE CHAT ***\\n\")\n",
        "while True:\n",
        "    prompt = format_messages(history)\n",
        "    response = gemma.generate(prompt, max_length=512)\n",
        "    response = response[len(prompt) :]\n",
        "\n",
        "    history.append((\"model\", response))\n",
        "    print(textwrap.fill(f\"Gemma: {response} \\n\", 120))\n",
        "\n",
        "    question = input(\"User: \")\n",
        "    if question == \"EXIT\":\n",
        "        break\n",
        "\n",
        "    print()\n",
        "    history.append((\"user\", question))"
      ]
    },
    {
      "cell_type": "markdown",
      "metadata": {
        "id": "EOW7M2UABBma"
      },
      "source": [
        "#### Prompting example: Code Generation\n",
        "_Note: While Gemma offers some basic code generation capabilities, a more specialized model called CodeGemma is introduced in the next section for these tasks._"
      ]
    },
    {
      "cell_type": "code",
      "execution_count": null,
      "metadata": {
        "id": "cqdVbVI14N7B",
        "outputId": "4543ef81-7c6b-46d0-8441-c8545812d63b",
        "colab": {
          "base_uri": "https://localhost:8080/",
          "height": 545
        }
      },
      "outputs": [
        {
          "output_type": "display_data",
          "data": {
            "text/plain": [
              "<IPython.core.display.Markdown object>"
            ],
            "text/markdown": "```python\ndef multiply(num1, num2):\n  \"\"\"\n  This function multiplies two numbers.\n\n  Args:\n    num1: The first number.\n    num2: The second number.\n\n  Returns:\n    The product of num1 and num2.\n  \"\"\"\n\n  product = num1 * num2\n  return product\n```\n\n**Example Usage:**\n\n```python\n# Multiply 5 and 3\nproduct = multiply(5, 3)\n\n# Print the product\nprint(product)  # Output: 15\n```\n\n**Explanation:**\n\n* The function takes two arguments, `num1` and `num2`.\n* Inside the function, we use the multiplication operator (`*`) to calculate the product of `num1` and `num2`.\n* The product is stored in the `product` variable.\n* The function returns the calculated product.\n\n**Additional Notes:**\n\n* This function only works for positive numbers. For negative numbers, a `ZeroDivisionError` will be raised.\n* The function is designed to be simple and efficient. It does not handle errors or special cases."
          },
          "metadata": {}
        }
      ],
      "source": [
        "prompt = \"\"\"<start_of_turn>user\n",
        "Generate a Python function that multiplies two numbers<end_of_turn>\n",
        "<start_of_turn>model\"\"\"\n",
        "\n",
        "response = gemma.generate(prompt, max_length=1024)\n",
        "display(Markdown(response[len(prompt) :]))"
      ]
    },
    {
      "cell_type": "code",
      "execution_count": null,
      "metadata": {
        "id": "ktdKguk-3T1M",
        "outputId": "4cc0b66c-7a28-4d40-f52e-4eb1c9b1fd1c",
        "colab": {
          "base_uri": "https://localhost:8080/"
        }
      },
      "outputs": [
        {
          "output_type": "execute_result",
          "data": {
            "text/plain": [
              "{'status': 'ok', 'restart': True}"
            ]
          },
          "metadata": {},
          "execution_count": 12
        }
      ],
      "source": [
        "# We need to restart the session to release GPU memory\n",
        "# before loading different model\n",
        "get_ipython().kernel.do_shutdown(True)"
      ]
    }
  ],
  "metadata": {
    "accelerator": "GPU",
    "colab": {
      "provenance": [],
      "include_colab_link": true
    },
    "kernelspec": {
      "display_name": "Python 3",
      "name": "python3"
    }
  },
  "nbformat": 4,
  "nbformat_minor": 0
}